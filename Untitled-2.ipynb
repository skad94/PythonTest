{
 "cells": [
  {
   "cell_type": "code",
   "execution_count": 1,
   "metadata": {},
   "outputs": [
    {
     "name": "stdout",
     "output_type": "stream",
     "text": [
      "94\n"
     ]
    }
   ],
   "source": [
    "a = 92\n",
    "b = 2\n",
    "print(a+b)"
   ]
  },
  {
   "cell_type": "code",
   "execution_count": 3,
   "metadata": {},
   "outputs": [],
   "source": [
    "s=['stephane','John','Hugo','Tony']"
   ]
  },
  {
   "cell_type": "code",
   "execution_count": 4,
   "metadata": {},
   "outputs": [
    {
     "data": {
      "text/plain": [
       "'Hugo'"
      ]
     },
     "execution_count": 4,
     "metadata": {},
     "output_type": "execute_result"
    }
   ],
   "source": [
    "s[2]"
   ]
  },
  {
   "cell_type": "code",
   "execution_count": 13,
   "metadata": {},
   "outputs": [
    {
     "name": "stdout",
     "output_type": "stream",
     "text": [
      "('9', '4')\n"
     ]
    }
   ],
   "source": [
    "t = tuple('94')\n",
    "print (t)"
   ]
  },
  {
   "cell_type": "code",
   "execution_count": 31,
   "metadata": {},
   "outputs": [
    {
     "name": "stdout",
     "output_type": "stream",
     "text": [
      "(1, 6, 2, 4, 6)\n"
     ]
    }
   ],
   "source": [
    "t2 = tuple([1,6,2, 4, 6])\n",
    "print(t2)"
   ]
  },
  {
   "cell_type": "code",
   "execution_count": 34,
   "metadata": {},
   "outputs": [
    {
     "name": "stdout",
     "output_type": "stream",
     "text": [
      "1\n",
      "6\n",
      "2\n",
      "4\n",
      "6\n"
     ]
    }
   ],
   "source": [
    "for u in t2:\n",
    "    print(u)\n",
    "    "
   ]
  },
  {
   "cell_type": "code",
   "execution_count": 38,
   "metadata": {},
   "outputs": [
    {
     "name": "stdout",
     "output_type": "stream",
     "text": [
      "[6, 36, 12, 24, 36]\n"
     ]
    }
   ],
   "source": [
    "# list comprehension to create new list\n",
    "explicit_comprehensive = [3*t * 2 for t in t2]\n",
    "print(explicit_comprehensive)"
   ]
  },
  {
   "cell_type": "code",
   "execution_count": 47,
   "metadata": {},
   "outputs": [],
   "source": [
    "txt = set('hbehbhsbdhsbduyvhfbvfjhvbflivbfiutrhipuhyibntiuygyfaxadxrexszrceydveubhrpvtnptjnvtljvnjvhbtkgvscwzewxaryexqcfsvzhsgekdhbrrntovtvtpvlcokvylkynjbviycgtxfeytervgcbjelzpetrbmbknbvbfhcvcydfcxfetxerdeaxazsaqsqxdwggxhbjcfjhnejhbhbqqqqqrpogitjnhdbhcbhbvnjbkmbyobiijbngjnvshjgdytfarqexwedrehtffptmbktrjnehcbgzvrrtauacerxjsxspirnkfejnfjbcvhgv')"
   ]
  },
  {
   "cell_type": "code",
   "execution_count": null,
   "metadata": {},
   "outputs": [],
   "source": []
  }
 ],
 "metadata": {
  "kernelspec": {
   "display_name": "base",
   "language": "python",
   "name": "python3"
  },
  "language_info": {
   "codemirror_mode": {
    "name": "ipython",
    "version": 3
   },
   "file_extension": ".py",
   "mimetype": "text/x-python",
   "name": "python",
   "nbconvert_exporter": "python",
   "pygments_lexer": "ipython3",
   "version": "3.12.2"
  }
 },
 "nbformat": 4,
 "nbformat_minor": 2
}
