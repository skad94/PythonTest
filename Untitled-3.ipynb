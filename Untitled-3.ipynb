{
 "cells": [
  {
   "cell_type": "code",
   "execution_count": 1,
   "metadata": {},
   "outputs": [
    {
     "name": "stdout",
     "output_type": "stream",
     "text": [
      "94\n"
     ]
    }
   ],
   "source": [
    "a=92\n",
    "b=2\n",
    "print(a+b)"
   ]
  },
  {
   "cell_type": "code",
   "execution_count": 3,
   "metadata": {},
   "outputs": [],
   "source": [
    "import yfinance as dataFinance"
   ]
  },
  {
   "cell_type": "code",
   "execution_count": 5,
   "metadata": {},
   "outputs": [
    {
     "name": "stdout",
     "output_type": "stream",
     "text": [
      "Company Sector :  Communication Services\n",
      "Price Earnings Ratio :  33.44788\n",
      " Company Beta :  1.208\n"
     ]
    }
   ],
   "source": [
    "GetFacebookInformation = dataFinance.Ticker(\"META\")\n",
    " \n",
    "# display Company Sector\n",
    "print(\"Company Sector : \", GetFacebookInformation.info['sector'])\n",
    " \n",
    "# display Price Earnings Ratio\n",
    "print(\"Price Earnings Ratio : \", GetFacebookInformation.info['trailingPE'])\n",
    " \n",
    "# display Company Beta\n",
    "print(\" Company Beta : \", GetFacebookInformation.info['beta'])"
   ]
  },
  {
   "cell_type": "code",
   "execution_count": 10,
   "metadata": {},
   "outputs": [
    {
     "name": "stdout",
     "output_type": "stream",
     "text": [
      "                                 Open        High         Low       Close  \\\n",
      "Date                                                                        \n",
      "2012-05-18 00:00:00-04:00   42.005431   44.952305   37.959724   38.189480   \n",
      "2012-05-21 00:00:00-04:00   36.491281   36.621144   32.965024   33.993931   \n",
      "2012-05-22 00:00:00-04:00   32.575438   33.554399   30.907208   30.967144   \n",
      "2012-05-23 00:00:00-04:00   31.336752   32.465554   31.326762   31.966084   \n",
      "2012-05-24 00:00:00-04:00   32.915078   33.174801   31.736328   32.994991   \n",
      "...                               ...         ...         ...         ...   \n",
      "2024-03-26 00:00:00-04:00  505.130005  510.000000  495.209991  495.890015   \n",
      "2024-03-27 00:00:00-04:00  499.299988  499.890015  488.070007  493.859985   \n",
      "2024-03-28 00:00:00-04:00  492.839996  492.890015  485.149994  485.579987   \n",
      "2024-04-01 00:00:00-04:00  487.200012  497.429993  481.779999  491.350006   \n",
      "2024-04-02 00:00:00-04:00  485.100006  497.529999  484.649994  497.369995   \n",
      "\n",
      "                              Volume  Dividends  Stock Splits  \n",
      "Date                                                           \n",
      "2012-05-18 00:00:00-04:00  573576400        0.0           0.0  \n",
      "2012-05-21 00:00:00-04:00  168192700        0.0           0.0  \n",
      "2012-05-22 00:00:00-04:00  101786600        0.0           0.0  \n",
      "2012-05-23 00:00:00-04:00   73600000        0.0           0.0  \n",
      "2012-05-24 00:00:00-04:00   50237200        0.0           0.0  \n",
      "...                              ...        ...           ...  \n",
      "2024-03-26 00:00:00-04:00   11205400        0.0           0.0  \n",
      "2024-03-27 00:00:00-04:00    9989700        0.0           0.0  \n",
      "2024-03-28 00:00:00-04:00   15212800        0.0           0.0  \n",
      "2024-04-01 00:00:00-04:00    9247000        0.0           0.0  \n",
      "2024-04-02 00:00:00-04:00   11053500        0.0           0.0  \n",
      "\n",
      "[2986 rows x 7 columns]\n"
     ]
    }
   ],
   "source": [
    "print(GetFacebookInformation.history(period=\"max\"))"
   ]
  },
  {
   "cell_type": "code",
   "execution_count": 11,
   "metadata": {},
   "outputs": [
    {
     "data": {
      "text/plain": [
       "pandas.core.frame.DataFrame"
      ]
     },
     "execution_count": 11,
     "metadata": {},
     "output_type": "execute_result"
    }
   ],
   "source": [
    "type(GetFacebookInformation.history(period=\"max\"))"
   ]
  },
  {
   "cell_type": "code",
   "execution_count": null,
   "metadata": {},
   "outputs": [],
   "source": [
    "class Solution(object):\n",
    "    def searchInsert(self, nums, target):\n",
    "        \"\"\"\n",
    "        :type nums: List[int]\n",
    "        :type target: int\n",
    "        :rtype: int\n",
    "        \"\"\"\n",
    "        fini = True\n",
    "        if nums[0] > target:\n",
    "            return 0\n",
    "        if nums[len(nums) - 1] < target:\n",
    "            return len(nums)\n",
    "        begin = 0\n",
    "        end = len(nums) - 1\n",
    "        while end -begin > 1:\n",
    "            SKcompare(target,begin,end)\n",
    "            \n",
    "        \n",
    "def SKcompare(self, target,begin, end):\n",
    "    \"\"\"\n",
    "    Just to know whether I'm above, below or equal to the median\n",
    "    \"\"\"  \n",
    "    median = (end-begin)/2\n",
    "    if target == median:\n",
    "        return -94, median\n",
    "    \n",
    "    \n",
    "\n",
    "\n",
    " "
   ]
  },
  {
   "cell_type": "code",
   "execution_count": 12,
   "metadata": {},
   "outputs": [
    {
     "name": "stdout",
     "output_type": "stream",
     "text": [
      "[0, 0.2]\n",
      "[1, 0.3]\n",
      "[2, 0.5]\n"
     ]
    }
   ],
   "source": [
    "l1 = [0,1,2]\n",
    "l2 = [0.2,0.3,0.5]\n",
    "n = len(l1)\n",
    "res = []\n",
    "for i in range(n):\n",
    "    res.append([l1[i],l2[i]])\n",
    "    print(res[-1])\n"
   ]
  },
  {
   "cell_type": "code",
   "execution_count": 20,
   "metadata": {},
   "outputs": [
    {
     "name": "stdout",
     "output_type": "stream",
     "text": [
      "<class '__main__.d'>\n",
      "d\n",
      "rev\n",
      "d\n",
      "d\n"
     ]
    }
   ],
   "source": [
    "class d:\n",
    "    def __init__(self,a):\n",
    "        self.a = a\n",
    "    def rev(self,b):\n",
    "        return self.a + b\n",
    "    \n",
    "x = d(10)\n",
    "print(x.__class__)\n",
    "print(type(x).__name__)\n",
    "print(x.rev.__name__)\n",
    "print(x.__class__.__name__)\n",
    "print(type(x).__name__)"
   ]
  }
 ],
 "metadata": {
  "kernelspec": {
   "display_name": "base",
   "language": "python",
   "name": "python3"
  },
  "language_info": {
   "codemirror_mode": {
    "name": "ipython",
    "version": 3
   },
   "file_extension": ".py",
   "mimetype": "text/x-python",
   "name": "python",
   "nbconvert_exporter": "python",
   "pygments_lexer": "ipython3",
   "version": "3.12.2"
  }
 },
 "nbformat": 4,
 "nbformat_minor": 2
}
